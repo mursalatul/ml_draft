{
 "cells": [
  {
   "cell_type": "code",
   "execution_count": 42,
   "metadata": {},
   "outputs": [],
   "source": [
    "import pandas as pd\n",
    "import numpy as np\n",
    "import seaborn as sns\n"
   ]
  },
  {
   "cell_type": "code",
   "execution_count": 43,
   "metadata": {},
   "outputs": [],
   "source": [
    "# https://www.kaggle.com/competitions/home-data-for-ml-course/data\n",
    "train_df = pd.read_csv('train.csv')\n",
    "test_df = pd.read_csv('test.csv')"
   ]
  },
  {
   "cell_type": "code",
   "execution_count": null,
   "metadata": {},
   "outputs": [],
   "source": [
    "def showCol():\n",
    "    print(\"train df:\", )\n",
    "    print(train_df.keys())\n",
    "    print('-'.center(10, '-'))\n",
    "    print('test df:')\n",
    "    print(test_df.keys())\n",
    "\n",
    "def dataType():\n",
    "    print(\"train df:\", )\n",
    "    type_counts = {\n",
    "        'int64' : 0,\n",
    "        'float64' : 0,\n",
    "        'object' : 0\n",
    "    }\n",
    "\n",
    "    a = train_df.dtypes\n",
    "    for dtype in a:\n",
    "            if np.issubdtype(dtype, np.integer):\n",
    "                type_counts['int64'] += 1\n",
    "            elif np.issubdtype(dtype, np.floating):\n",
    "                type_counts['float64'] += 1\n",
    "            elif np.issubdtype(dtype, np.object_):\n",
    "                type_counts['object'] += 1\n",
    "\n",
    "    for key, val in type_counts.items():\n",
    "        print(f'{key} : {val}')\n",
    "    print('Total:', sum(type_counts.values()))\n",
    "\n",
    "    print('-'.center(30, '-'))\n",
    "    \n",
    "    print(\"test df:\", )\n",
    "    type_counts = {\n",
    "        'int64' : 0,\n",
    "        'float64' : 0,\n",
    "        'object' : 0\n",
    "    }\n",
    "\n",
    "    a = test_df.dtypes\n",
    "    for dtype in a:\n",
    "            if np.issubdtype(dtype, np.integer):\n",
    "                type_counts['int64'] += 1\n",
    "            elif np.issubdtype(dtype, np.floating):\n",
    "                type_counts['float64'] += 1\n",
    "            elif np.issubdtype(dtype, np.object_):\n",
    "                type_counts['object'] += 1\n",
    "\n",
    "    for key, val in type_counts.items():\n",
    "        print(f'{key} : {val}')\n",
    "    print('Total:', sum(type_counts.values()))\n",
    "\n",
    "\n",
    "# showCol()\n",
    "dataType()"
   ]
  },
  {
   "cell_type": "code",
   "execution_count": null,
   "metadata": {},
   "outputs": [],
   "source": [
    "\n",
    "train_df.describe()"
   ]
  },
  {
   "cell_type": "code",
   "execution_count": null,
   "metadata": {},
   "outputs": [],
   "source": [
    "test_df.describe()"
   ]
  },
  {
   "cell_type": "code",
   "execution_count": null,
   "metadata": {},
   "outputs": [],
   "source": [
    "def checkNA():\n",
    "    x = train_df.columns[train_df.isnull().any()].tolist()\n",
    "    print('train df :', len(x))\n",
    "    print(x)\n",
    "    print()\n",
    "    x = test_df.columns[test_df.isnull().any()].tolist()\n",
    "    print('test :', len(x))\n",
    "    print(x)\n",
    "checkNA()"
   ]
  },
  {
   "cell_type": "code",
   "execution_count": 49,
   "metadata": {},
   "outputs": [],
   "source": [
    "from sklearn.preprocessing import LabelEncoder\n",
    "\n",
    "\n",
    "# Iterate through each column in the DataFrame\n",
    "for col in train_df.columns:\n",
    "    if train_df[col].dtype == 'object':  # Check if the column is categorical\n",
    "        if train_df[col].isnull().any():  # Check if the column has NaN values\n",
    "            temp_encoder = LabelEncoder()\n",
    "            temp_encoder.fit(train_df[col].dropna())  # Fit only on non-NaN values\n",
    "            temp_median = pd.Series(temp_encoder.transform(train_df[col].dropna())).median()\n",
    "            # Replace NaN with the median label\n",
    "            train_df[col] = train_df[col].fillna(temp_encoder.classes_[int(temp_median)])\n",
    "        \n",
    "        # Final encoding of the column\n",
    "        encoder = LabelEncoder()\n",
    "        train_df[col] = encoder.fit_transform(train_df[col])\n",
    "    else:  # If the column is numeric\n",
    "        if train_df[col].isnull().any():\n",
    "            train_df[col] = train_df[col].fillna(train_df[col].median())  # Replace NaN with median\n",
    "\n",
    "\n",
    "\n",
    "for col in test_df.columns:\n",
    "    if test_df[col].dtype == 'object':  # Check if the column is categorical\n",
    "        if test_df[col].isnull().any():  # Check if the column has NaN values\n",
    "            temp_encoder = LabelEncoder()\n",
    "            temp_encoder.fit(test_df[col].dropna())  # Fit only on non-NaN values\n",
    "            temp_median = pd.Series(temp_encoder.transform(test_df[col].dropna())).median()\n",
    "            # Replace NaN with the median label\n",
    "            test_df[col] = test_df[col].fillna(temp_encoder.classes_[int(temp_median)])\n",
    "        \n",
    "        # Final encoding of the column\n",
    "        encoder = LabelEncoder()\n",
    "        test_df[col] = encoder.fit_transform(test_df[col])\n",
    "    else:  # If the column is numeric\n",
    "        if test_df[col].isnull().any():\n",
    "            test_df[col] = test_df[col].fillna(test_df[col].median())  # Replace NaN with median"
   ]
  },
  {
   "cell_type": "code",
   "execution_count": null,
   "metadata": {},
   "outputs": [],
   "source": [
    "checkNA()"
   ]
  },
  {
   "cell_type": "code",
   "execution_count": null,
   "metadata": {},
   "outputs": [],
   "source": [
    "dataType()"
   ]
  },
  {
   "cell_type": "code",
   "execution_count": 52,
   "metadata": {},
   "outputs": [],
   "source": [
    "x_train = train_df.copy()\n",
    "x_test = test_df.copy()"
   ]
  },
  {
   "cell_type": "code",
   "execution_count": 53,
   "metadata": {},
   "outputs": [],
   "source": [
    "y_train = x_train['SalePrice']\n",
    "x_train = x_train.drop(labels=['Id', 'SalePrice'], axis=1)"
   ]
  },
  {
   "cell_type": "code",
   "execution_count": 54,
   "metadata": {},
   "outputs": [],
   "source": [
    "from sklearn.model_selection import train_test_split\n",
    "x_train, x_valid, y_train, y_valid = train_test_split(x_train, y_train, test_size=0.2)"
   ]
  },
  {
   "cell_type": "code",
   "execution_count": null,
   "metadata": {},
   "outputs": [],
   "source": []
  },
  {
   "cell_type": "code",
   "execution_count": 55,
   "metadata": {},
   "outputs": [],
   "source": [
    "from sklearn.metrics import mean_squared_error, mean_absolute_error, r2_score\n",
    "\n",
    "from sklearn.ensemble import RandomForestRegressor\n",
    "from sklearn.linear_model import LinearRegression, Ridge, Lasso\n",
    "from sklearn.neighbors import KNeighborsRegressor\n",
    "from sklearn.tree import DecisionTreeRegressor\n",
    "from sklearn.svm import SVR"
   ]
  },
  {
   "cell_type": "code",
   "execution_count": null,
   "metadata": {},
   "outputs": [],
   "source": [
    "# random forest regressor\n",
    "rfr = RandomForestRegressor()\n",
    "rfr.fit(x_train, y_train)\n",
    "prediction_rfr = rfr.predict(x_valid)\n",
    "r2_score_rfr = r2_score(y_valid, prediction_rfr)\n",
    "print(r2_score_rfr)"
   ]
  },
  {
   "cell_type": "code",
   "execution_count": null,
   "metadata": {},
   "outputs": [],
   "source": [
    "lr = LinearRegression()\n",
    "lr.fit(x_train, y_train)\n",
    "prediction_lr = lr.predict(x_valid)\n",
    "r2_score_lr = r2_score(y_valid, prediction_lr)\n",
    "print(r2_score_lr)"
   ]
  },
  {
   "cell_type": "code",
   "execution_count": null,
   "metadata": {},
   "outputs": [],
   "source": [
    "rid = Ridge()\n",
    "rid.fit(x_train, y_train)\n",
    "prediction_rid = rid.predict(x_valid)\n",
    "r2_score_rid = r2_score(y_valid, prediction_rid)\n",
    "print(r2_score_rid)"
   ]
  },
  {
   "cell_type": "code",
   "execution_count": null,
   "metadata": {},
   "outputs": [],
   "source": [
    "prediction_lasso = Lasso().fit(x_train, y_train).predict(x_valid)\n",
    "r2_score_lasso = r2_score(y_valid, prediction_lasso)\n",
    "print(r2_score_lasso)"
   ]
  },
  {
   "cell_type": "code",
   "execution_count": null,
   "metadata": {},
   "outputs": [],
   "source": [
    "prediction_kn = KNeighborsRegressor().fit(x_train, y_train).predict(x_valid)\n",
    "r2_score_kn = r2_score(y_valid, prediction_kn)\n",
    "print(r2_score_kn)"
   ]
  },
  {
   "cell_type": "code",
   "execution_count": null,
   "metadata": {},
   "outputs": [],
   "source": [
    "prediction_dt = DecisionTreeRegressor().fit(x_train, y_train).predict(x_valid)\n",
    "r2_score_dt = r2_score(y_valid, prediction_dt)\n",
    "print(r2_score_dt)"
   ]
  },
  {
   "cell_type": "code",
   "execution_count": null,
   "metadata": {},
   "outputs": [],
   "source": [
    "prediction_svr = SVR().fit(x_train, y_train).predict(x_valid)\n",
    "r2_score_svr = r2_score(y_valid, prediction_svr)\n",
    "print(r2_score_svr)"
   ]
  },
  {
   "cell_type": "code",
   "execution_count": null,
   "metadata": {},
   "outputs": [],
   "source": [
    "from pandas import DataFrame\n",
    "\n",
    "\n",
    "models_performance = DataFrame(\n",
    "    {\n",
    "        'Model': ['RandomForestRegressor', 'LinearRegression', 'Ridge', 'Lasso', 'KNeighborsRegressor', 'DecisionTreeRegressor', 'SVR'],\n",
    "        'R2 Score': [r2_score_rfr, r2_score_lr, r2_score_rid, r2_score_lasso, r2_score_kn, r2_score_dt, r2_score_svr]\n",
    "    }\n",
    ")\n",
    "models_performance = models_performance.sort_values(by='R2 Score', ascending=False)\n",
    "print(models_performance)"
   ]
  },
  {
   "cell_type": "code",
   "execution_count": 64,
   "metadata": {},
   "outputs": [],
   "source": [
    "final_prediction = rfr.predict(x_test.drop('Id', axis=1))"
   ]
  },
  {
   "cell_type": "code",
   "execution_count": 67,
   "metadata": {},
   "outputs": [],
   "source": [
    "submission_df = DataFrame(\n",
    "    {\n",
    "        'Id' : x_test['Id'],\n",
    "        'SalePrice' : final_prediction\n",
    "    }\n",
    ")"
   ]
  },
  {
   "cell_type": "code",
   "execution_count": 68,
   "metadata": {},
   "outputs": [],
   "source": [
    "submission_df.to_csv('submission.csv', index=False)"
   ]
  }
 ],
 "metadata": {
  "kernelspec": {
   "display_name": "Python 3",
   "language": "python",
   "name": "python3"
  },
  "language_info": {
   "codemirror_mode": {
    "name": "ipython",
    "version": 3
   },
   "file_extension": ".py",
   "mimetype": "text/x-python",
   "name": "python",
   "nbconvert_exporter": "python",
   "pygments_lexer": "ipython3",
   "version": "3.11.11"
  }
 },
 "nbformat": 4,
 "nbformat_minor": 2
}
